{
 "cells": [
  {
   "cell_type": "code",
   "execution_count": 1,
   "id": "0d313c91",
   "metadata": {},
   "outputs": [],
   "source": [
    "# !pip install geopandas\n",
    "# !pip install geopy\n",
    "# !pip install tqdm\n",
    "# !pip install plotly_express"
   ]
  },
  {
   "cell_type": "code",
   "execution_count": 2,
   "id": "15d111ef",
   "metadata": {},
   "outputs": [],
   "source": [
    "# %load_ext autotime\n",
    "import pandas as pd\n",
    "import geopandas as gpd\n",
    "import geopy\n",
    "from geopy.geocoders import Nominatim\n",
    "from geopy.extra.rate_limiter import RateLimiter\n",
    "import matplotlib.pyplot as plt\n",
    "import plotly_express as px\n",
    "import tqdm\n",
    "from tqdm.notebook import tqdm_notebook"
   ]
  },
  {
   "cell_type": "code",
   "execution_count": 20,
   "id": "54619bcf",
   "metadata": {},
   "outputs": [],
   "source": [
    "def get_location(lat, long):\n",
    "    locator = Nominatim(user_agent=\"myGeocoder\")\n",
    "    coordinates = str(lat) + \", \" + str(long)\n",
    "    return locator.reverse(coordinates)\n",
    "\n",
    "def set_value(state, postcode, county):\n",
    "    value = {'$set': {'state': state , \\\n",
    "                        'postcode': postcode, \\\n",
    "                          'county': county}}\n",
    "    return value"
   ]
  },
  {
   "cell_type": "code",
   "execution_count": 38,
   "id": "d70bd658",
   "metadata": {},
   "outputs": [
    {
     "data": {
      "text/plain": [
       "{'place_id': 103334635,\n",
       " 'licence': 'Data © OpenStreetMap contributors, ODbL 1.0. https://osm.org/copyright',\n",
       " 'osm_type': 'way',\n",
       " 'osm_id': 4741916,\n",
       " 'lat': '-1.2838893632221897',\n",
       " 'lon': '36.81592321618731',\n",
       " 'display_name': 'Uhuru Highway, Upper Hill, Nairobi, 46464, Kenya',\n",
       " 'address': {'road': 'Uhuru Highway',\n",
       "  'suburb': 'Upper Hill',\n",
       "  'city': 'Nairobi',\n",
       "  'state': 'Nairobi',\n",
       "  'ISO3166-2-lvl4': 'KE-30',\n",
       "  'region': 'Nairobi',\n",
       "  'postcode': '46464',\n",
       "  'country': 'Kenya',\n",
       "  'country_code': 'ke'},\n",
       " 'boundingbox': ['-1.2864162', '-1.2819523', '36.8149821', '36.8171431']}"
      ]
     },
     "execution_count": 38,
     "metadata": {},
     "output_type": "execute_result"
    }
   ],
   "source": [
    "# Example\n",
    "location = get_location(\"-1.2841\",\"36.8155\")\n",
    "location.raw"
   ]
  },
  {
   "cell_type": "code",
   "execution_count": 10,
   "id": "9515fc41",
   "metadata": {},
   "outputs": [
    {
     "name": "stderr",
     "output_type": "stream",
     "text": [
      "<ipython-input-10-465cacbddb37>:6: DeprecationWarning: count is deprecated. Use Collection.count_documents instead.\n",
      "  tbl.find().skip(1440).count()\n"
     ]
    },
    {
     "data": {
      "text/plain": [
       "1839"
      ]
     },
     "execution_count": 10,
     "metadata": {},
     "output_type": "execute_result"
    }
   ],
   "source": [
    "## I usually import data to MongoDB first\n",
    "## then pull the data from there. \n",
    "## you may write your own program to fetch the data. \n",
    "\n",
    "import pymongo\n",
    "myclient = pymongo.MongoClient(\"mongodb://localhost:27017/\")\n",
    "db = myclient['Side_Projects']\n",
    "tbl = db['Reverse_geocodes_2']\n",
    "tbl.find().skip(1440).count()"
   ]
  },
  {
   "cell_type": "code",
   "execution_count": 15,
   "id": "6cb80014",
   "metadata": {},
   "outputs": [
    {
     "data": {
      "text/plain": [
       "401"
      ]
     },
     "execution_count": 15,
     "metadata": {},
     "output_type": "execute_result"
    }
   ],
   "source": [
    "docs = tbl.find().skip(1438)\n",
    "count = 0\n",
    "for doc in docs:\n",
    "    lat, long = 0, 0\n",
    "    lat = doc.get(\"LocationLatitude\")\n",
    "    long = doc.get(\"LocationLongitude\")\n",
    "    count += 1\n",
    "count"
   ]
  },
  {
   "cell_type": "code",
   "execution_count": 13,
   "id": "be1876af",
   "metadata": {},
   "outputs": [
    {
     "name": "stderr",
     "output_type": "stream",
     "text": [
      "<ipython-input-13-5dde81ecd439>:1: DeprecationWarning: count is deprecated. Use Collection.count_documents instead.\n",
      "  docs.count()\n"
     ]
    },
    {
     "data": {
      "text/plain": [
       "1839"
      ]
     },
     "execution_count": 13,
     "metadata": {},
     "output_type": "execute_result"
    }
   ],
   "source": [
    "docs.count()"
   ]
  },
  {
   "cell_type": "code",
   "execution_count": 3,
   "id": "eb41e31d",
   "metadata": {},
   "outputs": [],
   "source": [
    "docs = tbl.find().skip(1438)\n",
    "\n",
    "count = 0\n",
    "for doc in docs:\n",
    "    lat, long = -999, 999\n",
    "    lat = doc.get(\"LocationLatitude\")\n",
    "    long = doc.get(\"LocationLongitude\")\n",
    "    \n",
    "    location = get_location(lat, long)\n",
    "    state = location.raw.get('address').get('state')\n",
    "    postcode = location.raw.get('address').get('postcode')\n",
    "    county = location.raw.get('address').get('county')\n",
    "    tbl.update_one({'_id': doc['_id']}, set_value(state, postcode, county))\n",
    "    count += 1\n",
    "    \n",
    "    if count % 20 == 0: \n",
    "        print('{} - documents inserted'.format(count))\n",
    "    "
   ]
  },
  {
   "cell_type": "code",
   "execution_count": 34,
   "id": "423e2b15",
   "metadata": {},
   "outputs": [],
   "source": [
    "import requests\n",
    "import json\n",
    "import time\n",
    "\n",
    "'''\n",
    "there is a limit you can make request in a certain amount of time\n",
    "when I ran the program, I get connection time out several times. \n",
    "you can catch the error and make the requests again. \n",
    "I have to change my ip and make the requests 😏. \n",
    "\n",
    "'''\n",
    "def get_location_by_ip(ip):\n",
    "    time.sleep(1)\n",
    "    request_url = 'https://geolocation-db.com/jsonp/' + ip\n",
    "    response = requests.get(request_url)\n",
    "    result = response.content.decode()\n",
    "    result = result.split(\"(\")[1].strip(\")\")\n",
    "    result  = json.loads(result)\n",
    "    return result\n",
    "\n",
    "def set_value2(state, postcode, city, country_name):\n",
    "    value = {'$set': {'state': state , \\\n",
    "                        'postcode': postcode, \\\n",
    "                          'city': city, \\\n",
    "                             'country_name': country_name}}\n",
    "    return value"
   ]
  },
  {
   "cell_type": "code",
   "execution_count": 35,
   "id": "bfdf748e",
   "metadata": {},
   "outputs": [],
   "source": [
    "docs = tbl.find().skip(1829)\n",
    "\n",
    "count = 0\n",
    "for doc in docs:\n",
    "    \n",
    "    ip = doc.get(\"IPAddress\")\n",
    "    \n",
    "    location = get_location_by_ip(ip)\n",
    "    state = location.get('state')\n",
    "    postcode = location.get('postal')\n",
    "    city = location.get('city')\n",
    "    country_name = location.get('country_name')\n",
    "    tbl.update_one({'_id': doc['_id']}, set_value2(state, postcode, city, country_name))\n",
    "    count += 1\n",
    "    \n",
    "    if count % 20 == 0: \n",
    "        print('{} - documents inserted'.format(count))"
   ]
  },
  {
   "cell_type": "code",
   "execution_count": null,
   "id": "010f0c87",
   "metadata": {},
   "outputs": [],
   "source": []
  }
 ],
 "metadata": {
  "kernelspec": {
   "display_name": "Python 3",
   "language": "python",
   "name": "python3"
  },
  "language_info": {
   "codemirror_mode": {
    "name": "ipython",
    "version": 3
   },
   "file_extension": ".py",
   "mimetype": "text/x-python",
   "name": "python",
   "nbconvert_exporter": "python",
   "pygments_lexer": "ipython3",
   "version": "3.8.8"
  }
 },
 "nbformat": 4,
 "nbformat_minor": 5
}
